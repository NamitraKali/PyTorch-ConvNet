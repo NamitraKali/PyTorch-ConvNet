{
 "cells": [
  {
   "cell_type": "markdown",
   "metadata": {},
   "source": [
    "# MNIST Classification with a CNN"
   ]
  },
  {
   "cell_type": "markdown",
   "metadata": {},
   "source": [
    "## Contents\n",
    "- <a href='#1.0'>1.0 Introduction and Setup<a>\n",
    "    - <a href='#1.1'>1.1 Importing Dependencies<a>\n",
    "    - <a href='#1.2'>1.2 Model Architecture<a>\n",
    "    - <a href='#1.3'>1.3 Importing and Augmenting the Data<a>\n",
    "- <a href='#2.0'>2.0 Training the Model<a>\n",
    "    - <a href='#2.1'>2.1 Learning Rate Finder<a>"
   ]
  },
  {
   "cell_type": "markdown",
   "metadata": {},
   "source": [
    "## <a id='1.0'>1.0 Introduction and Setup<a>\n",
    "\n",
    "This is my implementation of a Convolutional Neural Network for handwritten digit recognition on the MNIST dataset using PyTorch."
   ]
  },
  {
   "cell_type": "code",
   "execution_count": 1,
   "metadata": {},
   "outputs": [],
   "source": [
    "%matplotlib inline\n",
    "%load_ext autoreload\n",
    "%reload_ext autoreload\n",
    "%autoreload 2"
   ]
  },
  {
   "cell_type": "markdown",
   "metadata": {},
   "source": [
    "### <a id='1.1'>1.1 Importing Dependencies<a>"
   ]
  },
  {
   "cell_type": "code",
   "execution_count": 2,
   "metadata": {},
   "outputs": [],
   "source": [
    "import os\n",
    "import torch\n",
    "import torch.nn as nn\n",
    "import torch.nn.functional as F\n",
    "import torch.optim as optim\n",
    "import torchvision\n",
    "import torchvision.transforms as transforms\n",
    "import matplotlib.pyplot as plt\n",
    "from matplotlib import style\n",
    "from Trainer import trainer\n",
    "import numpy as np\n",
    "style.use('ggplot')"
   ]
  },
  {
   "cell_type": "code",
   "execution_count": 3,
   "metadata": {},
   "outputs": [],
   "source": [
    "# Set device where our training will take place\n",
    "device = torch.device('cuda:0' if torch.cuda.is_available() else 'cpu')"
   ]
  },
  {
   "cell_type": "markdown",
   "metadata": {},
   "source": [
    "### <a id='1.2'>1.2 Model Architecture<a>\n",
    "\n",
    "This Convolutional Neural Network will have three Convolutional blocks. Each block will perform a convolution operation for feature learning, dropout for regularization and batch normalization to help speed up the training process. Each block is activated using ReLU. After the Convolutional blocks, there will be two fully connected layers for classification. The final layer will have a logged softmax activation for prediction."
   ]
  },
  {
   "cell_type": "code",
   "execution_count": 4,
   "metadata": {},
   "outputs": [],
   "source": [
    "# Define our model\n",
    "class ConvNet(nn.Module):\n",
    "    def __init__(self, in_channel, out_channel=32, img_dim=7, num_classes=10):\n",
    "        super(ConvNet, self).__init__()\n",
    "        self.im_size = img_dim\n",
    "\n",
    "        # Convolutional Block 1\n",
    "        self.conv1 = nn.Conv2d(in_channel, 16, (5, 5))\n",
    "        nn.init.kaiming_normal_(self.conv1.weight)\n",
    "        self.dropout1 = nn.Dropout2d(p=0.2)\n",
    "        self.batch1 = nn.BatchNorm2d(16)\n",
    "\n",
    "        # Convolutional Block 2\n",
    "        self.conv2 = nn.Conv2d(16, 32, (3, 3))\n",
    "        nn.init.kaiming_normal_(self.conv2.weight)\n",
    "        self.dropout2 = nn.Dropout2d(p=0.15)\n",
    "        self.batch2 = nn.BatchNorm2d(32)\n",
    "\n",
    "        # Convolutional Block 3\n",
    "        self.conv3 = nn.Conv2d(32, out_channel, (1, 1))\n",
    "        nn.init.kaiming_normal_(self.conv3.weight)\n",
    "        self.dropout3 = nn.Dropout2d(p=0.1)\n",
    "        self.batch3 = nn.BatchNorm2d(out_channel)\n",
    "        self.pool = nn.MaxPool2d(3)\n",
    "\n",
    "        # Fully Connected Layer\n",
    "        self.fc1 = nn.Linear(out_channel * img_dim * img_dim, num_classes * 2)\n",
    "        nn.init.kaiming_normal_(self.fc1.weight)\n",
    "        self.fc2 = nn.Linear(num_classes * 2, num_classes)\n",
    "        nn.init.kaiming_normal_(self.fc2.weight)\n",
    "\n",
    "    def forward(self, x):\n",
    "        # Conv Block 1\n",
    "        out = self.conv1(x)\n",
    "        out = self.dropout1(out)\n",
    "        out = self.batch1(out).clamp(min=0)\n",
    "\n",
    "        # Conv Block 2\n",
    "        out = self.conv2(out)\n",
    "        out = self.dropout2(out)\n",
    "        out = self.batch2(out).clamp(min=0)\n",
    "\n",
    "        # Conv Block 3\n",
    "        out = self.conv3(out)\n",
    "        out = self.dropout3(out)\n",
    "        out = self.batch3(out).clamp(min=0)\n",
    "        out = self.pool(out)\n",
    "\n",
    "        # Flatten\n",
    "        out = out.reshape(out.size(0), -1)\n",
    "        # Fully Connected\n",
    "        out = self.fc1(out).clamp(min=0)\n",
    "        out = F.log_softmax(self.fc2(out))\n",
    "        return out"
   ]
  },
  {
   "cell_type": "markdown",
   "metadata": {},
   "source": [
    "### <a id='1.3'>1.3 Importing and Augmenting the Data<a>\n",
    "\n",
    "PyTorch makes it easy to import the MNIST dataset, since it's so popular. With the torchvision library we are able to download/import datasets and apply data augmentation with ease."
   ]
  },
  {
   "cell_type": "markdown",
   "metadata": {},
   "source": [
    "The augmentation we'll apply to our training data involves applying random rotations to the left or right with a maximum rotation of 15 degrees. Our training data will also be shuffled randomly each epoch. In this code block we'll also set our batch size to 100 images."
   ]
  },
  {
   "cell_type": "code",
   "execution_count": 5,
   "metadata": {},
   "outputs": [],
   "source": [
    "# Perform some data augmentation\n",
    "aug = transforms.Compose([transforms.RandomRotation(15),\n",
    "                          transforms.ToTensor()])\n",
    "batch_size = 100"
   ]
  },
  {
   "cell_type": "markdown",
   "metadata": {},
   "source": [
    "Here is where we will import our training and testing data."
   ]
  },
  {
   "cell_type": "code",
   "execution_count": 6,
   "metadata": {},
   "outputs": [],
   "source": [
    "# download our MNIST data\n",
    "# Augment our training set\n",
    "train_dataset = torchvision.datasets.MNIST(root='data/',\n",
    "                                           train=True,\n",
    "                                           transform=aug,\n",
    "                                           download=True)\n",
    "\n",
    "test_dataset = torchvision.datasets.MNIST(root='data/',\n",
    "                                          train=False,\n",
    "                                          transform=transforms.ToTensor())\n",
    "\n",
    "# Load our training set\n",
    "train_loader = torch.utils.data.DataLoader(dataset=train_dataset,\n",
    "                                           batch_size=batch_size,\n",
    "                                           shuffle=True)\n",
    "\n",
    "# Load our Testing set\n",
    "test_loader = torch.utils.data.DataLoader(dataset=test_dataset,\n",
    "                                          batch_size=batch_size,\n",
    "                                          shuffle=False)"
   ]
  },
  {
   "cell_type": "markdown",
   "metadata": {},
   "source": [
    "## <a id='#2.0'>2.0 Training our model<a>\n",
    "    \n",
    "The techniques used for training this classifier currently are able to produce the state-of-the-art results."
   ]
  },
  {
   "cell_type": "code",
   "execution_count": 7,
   "metadata": {},
   "outputs": [],
   "source": [
    "# Load our model\n",
    "model = ConvNet(in_channel=1).to(device)\n",
    "\n",
    "# Define our Loss function and our Optimizer\n",
    "criterion = nn.CrossEntropyLoss()\n",
    "optimizer = optim.Adam(model.parameters(), lr=1e-5)\n",
    "\n",
    "# load the model into our trainer\n",
    "learn = trainer(model, criterion, optimizer)"
   ]
  },
  {
   "cell_type": "markdown",
   "metadata": {},
   "source": [
    "### <a id='2.1'>2.1 Learning Rate Finder<a>\n",
    "\n",
    "One of the most underappreciated practices in Deep Learning is the use of a learning rate finder. By exponentially increasing the learning rate over the course of one epoch we can find the maximal learning rate that still converges to a minimum. To pick the learning rate, all we need to do is look at where the loss reaches a minimum and take a learning rate that is one order of magnitutde that is lower, this prevents our model from overshooting a local minimum during training."
   ]
  },
  {
   "cell_type": "code",
   "execution_count": 8,
   "metadata": {
    "scrolled": false
   },
   "outputs": [
    {
     "name": "stderr",
     "output_type": "stream",
     "text": [
      "/home/paperspace/anaconda3/envs/fastai/lib/python3.6/site-packages/ipykernel_launcher.py:53: UserWarning: Implicit dimension choice for log_softmax has been deprecated. Change the call to include dim=X as an argument.\n"
     ]
    },
    {
     "name": "stdout",
     "output_type": "stream",
     "text": [
      "Epoch [1/1], Step [100/600], Loss: 1.9700\n",
      "Epoch [1/1], Step [200/600], Loss: 0.8294\n",
      "Epoch [1/1], Step [300/600], Loss: 0.3448\n",
      "Epoch [1/1], Step [400/600], Loss: 0.1035\n",
      "Epoch [1/1], Step [500/600], Loss: 1.2783\n",
      "Epoch [1/1], Step [600/600], Loss: 2.4362\n"
     ]
    },
    {
     "data": {
      "image/png": "[encoded data removed]",
      "text/plain": [
       "<Figure size 432x288 with 1 Axes>"
      ]
     },
     "metadata": {},
     "output_type": "display_data"
    },
    {
     "data": {
      "image/png": "[encoded data removed]",
      "text/plain": [
       "<Figure size 432x288 with 1 Axes>"
      ]
     },
     "metadata": {},
     "output_type": "display_data"
    }
   ],
   "source": [
    "# Run the learning rate finder\n",
    "learn.lr_find(train_loader)\n",
    "# After this the parameters in our model will be all messed up"
   ]
  },
  {
   "cell_type": "code",
   "execution_count": 9,
   "metadata": {},
   "outputs": [],
   "source": [
    "# Reset model and optimizer in our trainer\n",
    "model = ConvNet(in_channel=1).to(device)\n",
    "criterion = nn.CrossEntropyLoss()\n",
    "optimizer = optim.Adam(model.parameters(), lr=1e-3)\n",
    "\n",
    "learn = trainer(model, criterion, optimizer)"
   ]
  },
  {
   "cell_type": "markdown",
   "metadata": {},
   "source": [
    "### <a id='2.2'> Training our Model<a>\n",
    "\n",
    "Instead of using a normal training routine where our learning rate is constant, the method used here is called [Stochastic Gradient Descent with Restarts](https://arxiv.org/abs/1608.03983). We define a number of cycles which is used for training. A cycle is a round of training where our learning rate is bumped up to the max and is slowly annealed so that our model converges onto a minimum. The reason that we bump up our learning rate in such a way is because we want to search the optimization space and find a stable minimum. This is in hopes of improving how our model improves on new testing data and with it's ability to generalize. "
   ]
  },
  {
   "cell_type": "code",
   "execution_count": 10,
   "metadata": {
    "scrolled": false
   },
   "outputs": [
    {
     "name": "stdout",
     "output_type": "stream",
     "text": [
      "#################### EPOCH 1 ####################\n"
     ]
    },
    {
     "name": "stderr",
     "output_type": "stream",
     "text": [
      "/home/paperspace/anaconda3/envs/fastai/lib/python3.6/site-packages/ipykernel_launcher.py:53: UserWarning: Implicit dimension choice for log_softmax has been deprecated. Change the call to include dim=X as an argument.\n"
     ]
    },
    {
     "name": "stdout",
     "output_type": "stream",
     "text": [
      "Epoch [1/24], Step [100/600], Loss: 0.6020\n",
      "Epoch [1/24], Step [200/600], Loss: 0.3535\n",
      "Epoch [1/24], Step [300/600], Loss: 0.2630\n",
      "Epoch [1/24], Step [400/600], Loss: 0.1539\n",
      "Epoch [1/24], Step [500/600], Loss: 0.2252\n",
      "Epoch [1/24], Step [600/600], Loss: 0.1872\n",
      "#################### EPOCH 2 ####################\n",
      "Epoch [2/24], Step [100/600], Loss: 0.2081\n",
      "Epoch [2/24], Step [200/600], Loss: 0.2164\n",
      "Epoch [2/24], Step [300/600], Loss: 0.1125\n",
      "Epoch [2/24], Step [400/600], Loss: 0.1044\n",
      "Epoch [2/24], Step [500/600], Loss: 0.1631\n",
      "Epoch [2/24], Step [600/600], Loss: 0.2759\n",
      "#################### EPOCH 3 ####################\n",
      "Epoch [3/24], Step [100/600], Loss: 0.1758\n",
      "Epoch [3/24], Step [200/600], Loss: 0.1659\n",
      "Epoch [3/24], Step [300/600], Loss: 0.0854\n",
      "Epoch [3/24], Step [400/600], Loss: 0.2651\n",
      "Epoch [3/24], Step [500/600], Loss: 0.0534\n",
      "Epoch [3/24], Step [600/600], Loss: 0.0889\n",
      "#################### EPOCH 4 ####################\n",
      "Epoch [4/24], Step [100/600], Loss: 0.0279\n",
      "Epoch [4/24], Step [200/600], Loss: 0.0592\n",
      "Epoch [4/24], Step [300/600], Loss: 0.0868\n",
      "Epoch [4/24], Step [400/600], Loss: 0.1613\n",
      "Epoch [4/24], Step [500/600], Loss: 0.1513\n",
      "Epoch [4/24], Step [600/600], Loss: 0.0737\n",
      "#################### EPOCH 5 ####################\n",
      "Epoch [5/24], Step [100/600], Loss: 0.0819\n",
      "Epoch [5/24], Step [200/600], Loss: 0.2930\n",
      "Epoch [5/24], Step [300/600], Loss: 0.0676\n",
      "Epoch [5/24], Step [400/600], Loss: 0.1827\n",
      "Epoch [5/24], Step [500/600], Loss: 0.1280\n",
      "Epoch [5/24], Step [600/600], Loss: 0.1254\n",
      "#################### EPOCH 6 ####################\n",
      "Epoch [6/24], Step [100/600], Loss: 0.0392\n",
      "Epoch [6/24], Step [200/600], Loss: 0.1372\n",
      "Epoch [6/24], Step [300/600], Loss: 0.1383\n",
      "Epoch [6/24], Step [400/600], Loss: 0.0979\n",
      "Epoch [6/24], Step [500/600], Loss: 0.0258\n",
      "Epoch [6/24], Step [600/600], Loss: 0.1499\n",
      "#################### EPOCH 7 ####################\n",
      "Epoch [7/24], Step [100/600], Loss: 0.1119\n",
      "Epoch [7/24], Step [200/600], Loss: 0.0614\n",
      "Epoch [7/24], Step [300/600], Loss: 0.1036\n",
      "Epoch [7/24], Step [400/600], Loss: 0.1481\n",
      "Epoch [7/24], Step [500/600], Loss: 0.1687\n",
      "Epoch [7/24], Step [600/600], Loss: 0.0668\n",
      "#################### EPOCH 8 ####################\n",
      "Epoch [8/24], Step [100/600], Loss: 0.1002\n",
      "Epoch [8/24], Step [200/600], Loss: 0.0524\n",
      "Epoch [8/24], Step [300/600], Loss: 0.0702\n",
      "Epoch [8/24], Step [400/600], Loss: 0.0481\n",
      "Epoch [8/24], Step [500/600], Loss: 0.1041\n",
      "Epoch [8/24], Step [600/600], Loss: 0.0768\n",
      "#################### EPOCH 9 ####################\n",
      "Epoch [9/24], Step [100/600], Loss: 0.1179\n",
      "Epoch [9/24], Step [200/600], Loss: 0.0495\n",
      "Epoch [9/24], Step [300/600], Loss: 0.0529\n",
      "Epoch [9/24], Step [400/600], Loss: 0.1090\n",
      "Epoch [9/24], Step [500/600], Loss: 0.1145\n",
      "Epoch [9/24], Step [600/600], Loss: 0.1158\n",
      "#################### EPOCH 10 ####################\n",
      "Epoch [10/24], Step [100/600], Loss: 0.0660\n",
      "Epoch [10/24], Step [200/600], Loss: 0.0348\n",
      "Epoch [10/24], Step [300/600], Loss: 0.0352\n",
      "Epoch [10/24], Step [400/600], Loss: 0.0844\n",
      "Epoch [10/24], Step [500/600], Loss: 0.1804\n",
      "Epoch [10/24], Step [600/600], Loss: 0.0437\n",
      "#################### EPOCH 11 ####################\n",
      "Epoch [11/24], Step [100/600], Loss: 0.0786\n",
      "Epoch [11/24], Step [200/600], Loss: 0.0925\n",
      "Epoch [11/24], Step [300/600], Loss: 0.0396\n",
      "Epoch [11/24], Step [400/600], Loss: 0.1217\n",
      "Epoch [11/24], Step [500/600], Loss: 0.0384\n",
      "Epoch [11/24], Step [600/600], Loss: 0.0459\n",
      "#################### EPOCH 12 ####################\n",
      "Epoch [12/24], Step [100/600], Loss: 0.0365\n",
      "Epoch [12/24], Step [200/600], Loss: 0.0717\n",
      "Epoch [12/24], Step [300/600], Loss: 0.0483\n",
      "Epoch [12/24], Step [400/600], Loss: 0.0459\n",
      "Epoch [12/24], Step [500/600], Loss: 0.0870\n",
      "Epoch [12/24], Step [600/600], Loss: 0.0385\n",
      "#################### EPOCH 13 ####################\n",
      "Epoch [13/24], Step [100/600], Loss: 0.0715\n",
      "Epoch [13/24], Step [200/600], Loss: 0.0631\n",
      "Epoch [13/24], Step [300/600], Loss: 0.0764\n",
      "Epoch [13/24], Step [400/600], Loss: 0.0490\n",
      "Epoch [13/24], Step [500/600], Loss: 0.0786\n",
      "Epoch [13/24], Step [600/600], Loss: 0.0645\n",
      "#################### EPOCH 14 ####################\n",
      "Epoch [14/24], Step [100/600], Loss: 0.1591\n",
      "Epoch [14/24], Step [200/600], Loss: 0.0200\n",
      "Epoch [14/24], Step [300/600], Loss: 0.0094\n",
      "Epoch [14/24], Step [400/600], Loss: 0.0715\n",
      "Epoch [14/24], Step [500/600], Loss: 0.0844\n",
      "Epoch [14/24], Step [600/600], Loss: 0.0136\n",
      "#################### EPOCH 15 ####################\n",
      "Epoch [15/24], Step [100/600], Loss: 0.0092\n",
      "Epoch [15/24], Step [200/600], Loss: 0.0081\n",
      "Epoch [15/24], Step [300/600], Loss: 0.0162\n",
      "Epoch [15/24], Step [400/600], Loss: 0.0122\n",
      "Epoch [15/24], Step [500/600], Loss: 0.0711\n",
      "Epoch [15/24], Step [600/600], Loss: 0.0573\n",
      "#################### EPOCH 16 ####################\n",
      "Epoch [16/24], Step [100/600], Loss: 0.0402\n",
      "Epoch [16/24], Step [200/600], Loss: 0.0842\n",
      "Epoch [16/24], Step [300/600], Loss: 0.0117\n",
      "Epoch [16/24], Step [400/600], Loss: 0.0678\n",
      "Epoch [16/24], Step [500/600], Loss: 0.1448\n",
      "Epoch [16/24], Step [600/600], Loss: 0.0336\n",
      "#################### EPOCH 17 ####################\n",
      "Epoch [17/24], Step [100/600], Loss: 0.0231\n",
      "Epoch [17/24], Step [200/600], Loss: 0.0382\n",
      "Epoch [17/24], Step [300/600], Loss: 0.0249\n",
      "Epoch [17/24], Step [400/600], Loss: 0.0515\n",
      "Epoch [17/24], Step [500/600], Loss: 0.0403\n",
      "Epoch [17/24], Step [600/600], Loss: 0.0405\n",
      "#################### EPOCH 18 ####################\n",
      "Epoch [18/24], Step [100/600], Loss: 0.0146\n",
      "Epoch [18/24], Step [200/600], Loss: 0.0527\n",
      "Epoch [18/24], Step [300/600], Loss: 0.0465\n",
      "Epoch [18/24], Step [400/600], Loss: 0.0688\n",
      "Epoch [18/24], Step [500/600], Loss: 0.1375\n",
      "Epoch [18/24], Step [600/600], Loss: 0.0694\n",
      "#################### EPOCH 19 ####################\n",
      "Epoch [19/24], Step [100/600], Loss: 0.0363\n",
      "Epoch [19/24], Step [200/600], Loss: 0.0355\n",
      "Epoch [19/24], Step [300/600], Loss: 0.0374\n",
      "Epoch [19/24], Step [400/600], Loss: 0.0830\n",
      "Epoch [19/24], Step [500/600], Loss: 0.0370\n",
      "Epoch [19/24], Step [600/600], Loss: 0.0218\n",
      "#################### EPOCH 20 ####################\n",
      "Epoch [20/24], Step [100/600], Loss: 0.0307\n",
      "Epoch [20/24], Step [200/600], Loss: 0.0256\n",
      "Epoch [20/24], Step [300/600], Loss: 0.0073\n",
      "Epoch [20/24], Step [400/600], Loss: 0.0246\n",
      "Epoch [20/24], Step [500/600], Loss: 0.0564\n",
      "Epoch [20/24], Step [600/600], Loss: 0.0123\n",
      "#################### EPOCH 21 ####################\n",
      "Epoch [21/24], Step [100/600], Loss: 0.0377\n",
      "Epoch [21/24], Step [200/600], Loss: 0.1003\n",
      "Epoch [21/24], Step [300/600], Loss: 0.0636\n",
      "Epoch [21/24], Step [400/600], Loss: 0.0090\n",
      "Epoch [21/24], Step [500/600], Loss: 0.0924\n",
      "Epoch [21/24], Step [600/600], Loss: 0.0810\n",
      "#################### EPOCH 22 ####################\n",
      "Epoch [22/24], Step [100/600], Loss: 0.0460\n",
      "Epoch [22/24], Step [200/600], Loss: 0.0102\n",
      "Epoch [22/24], Step [300/600], Loss: 0.0289\n",
      "Epoch [22/24], Step [400/600], Loss: 0.0676\n",
      "Epoch [22/24], Step [500/600], Loss: 0.0140\n",
      "Epoch [22/24], Step [600/600], Loss: 0.0872\n",
      "#################### EPOCH 23 ####################\n",
      "Epoch [23/24], Step [100/600], Loss: 0.0239\n",
      "Epoch [23/24], Step [200/600], Loss: 0.0484\n",
      "Epoch [23/24], Step [300/600], Loss: 0.0375\n",
      "Epoch [23/24], Step [400/600], Loss: 0.1125\n",
      "Epoch [23/24], Step [500/600], Loss: 0.1135\n",
      "Epoch [23/24], Step [600/600], Loss: 0.0871\n",
      "#################### EPOCH 24 ####################\n",
      "Epoch [24/24], Step [100/600], Loss: 0.0765\n",
      "Epoch [24/24], Step [200/600], Loss: 0.0736\n",
      "Epoch [24/24], Step [300/600], Loss: 0.0258\n",
      "Epoch [24/24], Step [400/600], Loss: 0.0212\n",
      "Epoch [24/24], Step [500/600], Loss: 0.0218\n",
      "Epoch [24/24], Step [600/600], Loss: 0.0060\n"
     ]
    },
    {
     "data": {
      "image/png": "[encoded data removed]",
      "text/plain": [
       "<Figure size 432x288 with 1 Axes>"
      ]
     },
     "metadata": {},
     "output_type": "display_data"
    },
    {
     "data": {
      "image/png": "[encoded data removed]",
      "text/plain": [
       "<Figure size 432x288 with 1 Axes>"
      ]
     },
     "metadata": {},
     "output_type": "display_data"
    }
   ],
   "source": [
    "learn.SGDR(train_loader, cycles=6, cycle_len=4, snapshot=True)"
   ]
  },
  {
   "cell_type": "code",
   "execution_count": 11,
   "metadata": {},
   "outputs": [
    {
     "name": "stderr",
     "output_type": "stream",
     "text": [
      "/home/paperspace/anaconda3/envs/fastai/lib/python3.6/site-packages/ipykernel_launcher.py:53: UserWarning: Implicit dimension choice for log_softmax has been deprecated. Change the call to include dim=X as an argument.\n"
     ]
    },
    {
     "name": "stdout",
     "output_type": "stream",
     "text": [
      "Test Accuracy: 99.06 %\n",
      "Test Loss: 2.8181930626305984\n"
     ]
    }
   ],
   "source": [
    "learn.test(test_loader)"
   ]
  },
  {
   "cell_type": "code",
   "execution_count": 14,
   "metadata": {
    "scrolled": true
   },
   "outputs": [
    {
     "name": "stderr",
     "output_type": "stream",
     "text": [
      "/home/paperspace/anaconda3/envs/fastai/lib/python3.6/site-packages/ipykernel_launcher.py:53: UserWarning: Implicit dimension choice for log_softmax has been deprecated. Change the call to include dim=X as an argument.\n"
     ]
    },
    {
     "name": "stdout",
     "output_type": "stream",
     "text": [
      "Test Accuracy: 99.06 %\n",
      "Test Loss: 2.930755730769306\n"
     ]
    }
   ],
   "source": [
    "learn.test(test_loader, snapshot=3)"
   ]
  },
  {
   "cell_type": "code",
   "execution_count": 13,
   "metadata": {},
   "outputs": [],
   "source": [
    "torch.save(model.state_dict(), 'model.ckpt')"
   ]
  },
  {
   "cell_type": "code",
   "execution_count": null,
   "metadata": {},
   "outputs": [],
   "source": []
  }
 ],
 "metadata": {
  "kernelspec": {
   "display_name": "Python 3",
   "language": "python",
   "name": "python3"
  },
  "language_info": {
   "codemirror_mode": {
    "name": "ipython",
    "version": 3
   },
   "file_extension": ".py",
   "mimetype": "text/x-python",
   "name": "python",
   "nbconvert_exporter": "python",
   "pygments_lexer": "ipython3",
   "version": "3.6.6"
  }
 },
 "nbformat": 4,
 "nbformat_minor": 2
}
